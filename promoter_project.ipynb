{
 "cells": [
  {
   "cell_type": "code",
   "execution_count": 1,
   "metadata": {
    "collapsed": true
   },
   "outputs": [
    {
     "name": "stderr",
     "output_type": "stream",
     "text": [
      "Using TensorFlow backend.\n",
      "C:\\Users\\lauro\\Anaconda3\\envs\\ml_promoter\\lib\\site-packages\\gensim\\corpora\\dictionary.py:11: DeprecationWarning: Using or importing the ABCs from 'collections' instead of from 'collections.abc' is deprecated since Python 3.3,and in 3.9 it will stop working\n",
      "  from collections import Mapping, defaultdict\n",
      "C:\\Users\\lauro\\Anaconda3\\envs\\ml_promoter\\lib\\site-packages\\scipy\\sparse\\sparsetools.py:21: DeprecationWarning: `scipy.sparse.sparsetools` is deprecated!\n",
      "scipy.sparse.sparsetools is a private module for scipy.sparse, and should not be used.\n",
      "  _deprecated()\n"
     ]
    }
   ],
   "source": [
    "import pdb\n",
    "import os\n",
    "import json\n",
    "from datetime import datetime\n",
    "import numpy as np\n",
    "import pandas as pd\n",
    "import matplotlib.pyplot as plt\n",
    "\n",
    "import tensorflow as tf\n",
    "import tensorflow.keras.backend as tf_bk\n",
    "from tensorflow.keras.preprocessing.image import ImageDataGenerator\n",
    "from tensorflow.keras.optimizers import (Adam, Nadam, )\n",
    "from tensorflow.keras.utils import plot_model\n",
    "\n",
    "from hypermodel_utils import load_args, load_data_chunks\n",
    "\n",
    "from sklearn.model_selection import StratifiedShuffleSplit\n",
    "\n",
    "from metrics import margin_loss\n",
    "import mlflow\n",
    "from mlflow import keras as mlflow_keras\n",
    "\n",
    "from promoter_data import PromoterData, DataChunk\n",
    "from my_generator import AugmentedGeneratorMultipleInputs\n",
    "\n",
    "import mymodels.parent_models as mymodels\n",
    "from ml_logs import MlLogs\n",
    "\n",
    "from promoter_utils import (\n",
    "    train_test,\n",
    "    get_model,\n",
    "    get_test_stats,\n",
    ")\n",
    "from hypermodel_utils import (\n",
    "    load_args,\n",
    ")\n",
    "\n",
    "import pprint\n",
    "\n",
    "# Set seeds\n",
    "np.random.seed(1337)\n",
    "if int(str(tf.__version__).split('.')[0]) >= 2:\n",
    "    from tensorflow import random as tf_random\n",
    "    tf_random.set_seed(3)\n",
    "else:\n",
    "    from tensorflow import set_random_seed\n",
    "    set_random_seed(3)"
   ]
  },
  {
   "cell_type": "code",
   "execution_count": 2,
   "outputs": [
    {
     "name": "stdout",
     "output_type": "stream",
     "text": [
      "Using parameters from: bacillus_exp_07.yaml\n",
      "{'organism': 'Bacillus', 'model_type': 'HOT_CNN_BACILLUS_02', 'early_stop': 2, 'cv': 2, 'n_samples': 3, 'epochs': 5, 'batch_size': 16, 'fasta_dir': 'fasta', 'weights_dir': 'weights', 'best_weights_dir': 'best_weights', 'base_results_dir': 'results', 'debug': 1, 'data': [{'k': 1, 'encode': 'onehot', 'slice': [59, 59, 20]}]}\n"
     ]
    }
   ],
   "source": [
    "# Load arguments and experiment configurations\n",
    "\n",
    "config_file_path = 'bacillus_exp_07.yaml'\n",
    "args_str = '--config {}'.format(config_file_path)\n",
    "args = load_args(args_str)"
   ],
   "metadata": {
    "collapsed": false,
    "pycharm": {
     "name": "#%%\n"
    }
   }
  },
  {
   "cell_type": "code",
   "execution_count": 3,
   "outputs": [
    {
     "name": "stdout",
     "output_type": "stream",
     "text": [
      "organism Bacillus\n",
      "model_type HOT_CNN_BACILLUS_02\n",
      "cv 2\n",
      "epochs 5\n",
      "early_stop 2\n",
      "n_samples 3\n",
      "batch_size 16\n",
      "initial_lr 0.001\n",
      "fasta_dir fasta\n",
      "weights_dir weights\n",
      "best_weights_dir best_weights\n",
      "base_results_dir results\n",
      "debug 1\n",
      "config bacillus_exp_07.yaml\n",
      "data [{'k': 1, 'encode': 'onehot', 'slice': [59, 59, 20]}]\n",
      "experiment_name bacillus_exp_07\n",
      "timestamp 2020_07_16=17_19_30\n",
      "samples [23, 29, 31]\n"
     ]
    }
   ],
   "source": [
    "# -\n",
    "\n",
    "for arg in vars(args):\n",
    "    print(arg, getattr(args, arg))\n",
    "\n"
   ],
   "metadata": {
    "collapsed": false,
    "pycharm": {
     "name": "#%%\n"
    }
   }
  }
 ],
 "metadata": {
  "kernelspec": {
   "name": "python3",
   "language": "python",
   "display_name": "Python 3"
  },
  "language_info": {
   "codemirror_mode": {
    "name": "ipython",
    "version": 2
   },
   "file_extension": ".py",
   "mimetype": "text/x-python",
   "name": "python",
   "nbconvert_exporter": "python",
   "pygments_lexer": "ipython2",
   "version": "2.7.6"
  }
 },
 "nbformat": 4,
 "nbformat_minor": 0
}